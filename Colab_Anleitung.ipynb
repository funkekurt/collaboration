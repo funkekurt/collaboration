{
  "nbformat": 4,
  "nbformat_minor": 0,
  "metadata": {
    "colab": {
      "provenance": [],
      "authorship_tag": "ABX9TyOs8KSv5YNScqatrwZAisW4",
      "include_colab_link": true
    },
    "kernelspec": {
      "name": "python3",
      "display_name": "Python 3"
    },
    "language_info": {
      "name": "python"
    }
  },
  "cells": [
    {
      "cell_type": "markdown",
      "metadata": {
        "id": "view-in-github",
        "colab_type": "text"
      },
      "source": [
        "<a href=\"https://colab.research.google.com/github/funkekurt/collaboration/blob/main/Colab_Anleitung.ipynb\" target=\"_parent\"><img src=\"https://colab.research.google.com/assets/colab-badge.svg\" alt=\"Open In Colab\"/></a>"
      ]
    },
    {
      "cell_type": "markdown",
      "source": [
        "## **Complet Google Colab Tutorial**\n",
        "https://youtu.be/agj3AxNPDWU\n",
        "\n",
        "## Meine Aufzeichnungen\n",
        "https://docs.google.com/document/d/1yuQVtMrAljJownsPI6ml8I32QCgdbG5PPUjfqP_9LCc/edit#heading=h.a9u5fdbhh14x\n",
        "\n",
        "##  Meine github Verzeichnis\n",
        "https://github.com/funkekurt/collaboration/blob/main/Colab_Anleitung.ipynb\n",
        "\n",
        "\n",
        "\n",
        "\n",
        "\n"
      ],
      "metadata": {
        "id": "BRWradFKsXV-"
      }
    },
    {
      "cell_type": "code",
      "execution_count": 1,
      "metadata": {
        "colab": {
          "base_uri": "https://localhost:8080/"
        },
        "id": "YN8G7teIH_9Q",
        "outputId": "138d2bcd-e535-492a-ebcc-fefb46b7bebf"
      },
      "outputs": [
        {
          "output_type": "stream",
          "name": "stdout",
          "text": [
            "Hallo world!\n"
          ]
        }
      ],
      "source": [
        "print(\"Hallo world!\")"
      ]
    },
    {
      "cell_type": "markdown",
      "source": [
        "# **Getting data into Google Colab**\n",
        "## | CSV | Files | Images | Drive Github\n",
        "https://youtu.be/58t0PFIWR9Y"
      ],
      "metadata": {
        "id": "BoeYQkyAZ-xn"
      }
    },
    {
      "cell_type": "markdown",
      "source": [
        "Upload from\n",
        "\n",
        "*   Public Link\n",
        "*   Google Drive\n",
        "*   Github Link\n",
        "*   Local Drive file"
      ],
      "metadata": {
        "id": "sbOnsAu64MbI"
      }
    },
    {
      "cell_type": "markdown",
      "source": [
        "### Public Link"
      ],
      "metadata": {
        "id": "y882Cc1l5EBv"
      }
    },
    {
      "cell_type": "code",
      "source": [
        "!wget https://github.com/datasciencedojo/datasets/blob/master/titanic.csv"
      ],
      "metadata": {
        "colab": {
          "base_uri": "https://localhost:8080/"
        },
        "id": "juBmW3jM3Wpw",
        "outputId": "a3cd63a3-fdd7-4eb4-8eab-4f5cc019e7a4"
      },
      "execution_count": 2,
      "outputs": [
        {
          "output_type": "stream",
          "name": "stdout",
          "text": [
            "--2023-06-18 14:44:08--  https://github.com/datasciencedojo/datasets/blob/master/titanic.csv\n",
            "Resolving github.com (github.com)... 140.82.114.4\n",
            "Connecting to github.com (github.com)|140.82.114.4|:443... connected.\n",
            "HTTP request sent, awaiting response... 200 OK\n",
            "Length: unspecified [text/html]\n",
            "Saving to: ‘titanic.csv’\n",
            "\n",
            "titanic.csv             [ <=>                ] 578.20K  --.-KB/s    in 0.06s   \n",
            "\n",
            "2023-06-18 14:44:08 (8.75 MB/s) - ‘titanic.csv’ saved [592074]\n",
            "\n"
          ]
        }
      ]
    },
    {
      "cell_type": "code",
      "source": [
        "!ls"
      ],
      "metadata": {
        "colab": {
          "base_uri": "https://localhost:8080/"
        },
        "id": "n7UTNL5P9sCS",
        "outputId": "9b0bb548-782f-4761-f227-651fe7345609"
      },
      "execution_count": 3,
      "outputs": [
        {
          "output_type": "stream",
          "name": "stdout",
          "text": [
            "sample_data  titanic.csv\n"
          ]
        }
      ]
    },
    {
      "cell_type": "markdown",
      "source": [
        "### Google Drive"
      ],
      "metadata": {
        "id": "iUlIvVdA5QSk"
      }
    },
    {
      "cell_type": "code",
      "source": [],
      "metadata": {
        "id": "BNDvk3nO5YFj"
      },
      "execution_count": null,
      "outputs": []
    },
    {
      "cell_type": "markdown",
      "source": [
        "### Github Link"
      ],
      "metadata": {
        "id": "WGQSXtaK5cEc"
      }
    },
    {
      "cell_type": "code",
      "source": [
        "!git clone https:// ... xyz.git"
      ],
      "metadata": {
        "id": "IKI_WF0Y5mgP"
      },
      "execution_count": null,
      "outputs": []
    },
    {
      "cell_type": "markdown",
      "source": [
        "### Local Drive"
      ],
      "metadata": {
        "id": "IHXDrLSn5qbi"
      }
    },
    {
      "cell_type": "code",
      "source": [],
      "metadata": {
        "id": "u6SfU9ON5wh9"
      },
      "execution_count": null,
      "outputs": []
    }
  ]
}