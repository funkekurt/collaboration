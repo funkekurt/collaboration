{
  "nbformat": 4,
  "nbformat_minor": 0,
  "metadata": {
    "colab": {
      "provenance": [],
      "authorship_tag": "ABX9TyNRHXIz1lQdGQ3HIB+8oqQf",
      "include_colab_link": true
    },
    "kernelspec": {
      "name": "python3",
      "display_name": "Python 3"
    },
    "language_info": {
      "name": "python"
    }
  },
  "cells": [
    {
      "cell_type": "markdown",
      "metadata": {
        "id": "view-in-github",
        "colab_type": "text"
      },
      "source": [
        "<a href=\"https://colab.research.google.com/github/funkekurt/collaboration/blob/main/Anleitung_Colab.ipynb\" target=\"_parent\"><img src=\"https://colab.research.google.com/assets/colab-badge.svg\" alt=\"Open In Colab\"/></a>"
      ]
    },
    {
      "cell_type": "markdown",
      "source": [
        "## **Complet Google Colab Tutorial**\n",
        "https://youtu.be/agj3AxNPDWU\n",
        "\n",
        "## Meine Aufzeichnungen\n",
        "https://docs.google.com/document/d/1yuQVtMrAljJownsPI6ml8I32QCgdbG5PPUjfqP_9LCc/edit#heading=h.a9u5fdbhh14x\n",
        "\n",
        "##  Meine github Verzeichnis\n",
        "https://github.com/funkekurt/collaboration/blob/main/Colab_Anleitung.ipynb\n",
        "\n",
        "\n",
        "\n",
        "\n",
        "\n"
      ],
      "metadata": {
        "id": "BRWradFKsXV-"
      }
    },
    {
      "cell_type": "code",
      "execution_count": null,
      "metadata": {
        "colab": {
          "base_uri": "https://localhost:8080/"
        },
        "id": "YN8G7teIH_9Q",
        "outputId": "138d2bcd-e535-492a-ebcc-fefb46b7bebf"
      },
      "outputs": [
        {
          "output_type": "stream",
          "name": "stdout",
          "text": [
            "Hallo world!\n"
          ]
        }
      ],
      "source": [
        "print(\"Hallo world!\")"
      ]
    },
    {
      "cell_type": "markdown",
      "source": [
        "# **Getting data into Google Colab**\n",
        "## | CSV | Files | Images | Drive Github\n",
        "https://youtu.be/58t0PFIWR9Y\n",
        "\n",
        "\n",
        "---\n",
        "\n"
      ],
      "metadata": {
        "id": "BoeYQkyAZ-xn"
      }
    },
    {
      "cell_type": "markdown",
      "source": [
        "Upload from\n",
        "\n",
        "*   Public Link\n",
        "*   Google Drive\n",
        "*   Github Link\n",
        "*   Local Drive file"
      ],
      "metadata": {
        "id": "sbOnsAu64MbI"
      }
    },
    {
      "cell_type": "markdown",
      "source": [
        "# Public Link"
      ],
      "metadata": {
        "id": "y882Cc1l5EBv"
      }
    },
    {
      "cell_type": "code",
      "source": [
        "!wget https://drive.google.com/file/d/10Lsr1MvgORJl_XOv8LfrKXW9Hy-FcbOr/view?pli=1"
      ],
      "metadata": {
        "colab": {
          "base_uri": "https://localhost:8080/"
        },
        "id": "juBmW3jM3Wpw",
        "outputId": "8097c034-b7ff-47db-c170-5ea32980ef57"
      },
      "execution_count": null,
      "outputs": [
        {
          "output_type": "stream",
          "name": "stdout",
          "text": [
            "--2023-07-01 08:00:03--  https://drive.google.com/file/d/10Lsr1MvgORJl_XOv8LfrKXW9Hy-FcbOr/view?pli=1\n",
            "Resolving drive.google.com (drive.google.com)... 74.125.20.113, 74.125.20.139, 74.125.20.102, ...\n",
            "Connecting to drive.google.com (drive.google.com)|74.125.20.113|:443... connected.\n",
            "HTTP request sent, awaiting response... 200 OK\n",
            "Length: unspecified [text/html]\n",
            "Saving to: ‘view?pli=1’\n",
            "\n",
            "view?pli=1              [ <=>                ]  78.03K  --.-KB/s    in 0.005s  \n",
            "\n",
            "2023-07-01 08:00:04 (15.9 MB/s) - ‘view?pli=1’ saved [79900]\n",
            "\n"
          ]
        }
      ]
    },
    {
      "cell_type": "code",
      "source": [
        "!ls"
      ],
      "metadata": {
        "colab": {
          "base_uri": "https://localhost:8080/"
        },
        "id": "n7UTNL5P9sCS",
        "outputId": "b0a09a56-b1e6-4ce2-b9e5-587ed67c773a"
      },
      "execution_count": null,
      "outputs": [
        {
          "output_type": "stream",
          "name": "stdout",
          "text": [
            " 4aa5b471860321d7b47fd881898162b7     sample_data\n",
            " 4aa5b471860321d7b47fd881898162b7.1   titanic.csv\n",
            "'download?datasetVersionNumber=1'\n"
          ]
        }
      ]
    },
    {
      "cell_type": "code",
      "source": [
        "import pandas as pd"
      ],
      "metadata": {
        "id": "UYjAMkze_qfw"
      },
      "execution_count": null,
      "outputs": []
    },
    {
      "cell_type": "code",
      "source": [
        "pd.read_csv('titanic.csv', sep='\\t').head()"
      ],
      "metadata": {
        "id": "3WfjgmAeAIwI"
      },
      "execution_count": null,
      "outputs": []
    },
    {
      "cell_type": "markdown",
      "source": [
        "### Google Drive"
      ],
      "metadata": {
        "id": "iUlIvVdA5QSk"
      }
    },
    {
      "cell_type": "code",
      "source": [],
      "metadata": {
        "id": "BNDvk3nO5YFj"
      },
      "execution_count": null,
      "outputs": []
    },
    {
      "cell_type": "markdown",
      "source": [
        "### Github Link"
      ],
      "metadata": {
        "id": "WGQSXtaK5cEc"
      }
    },
    {
      "cell_type": "code",
      "source": [
        "!git clone https://github.com/funkekurt/collaboration.git"
      ],
      "metadata": {
        "id": "IKI_WF0Y5mgP"
      },
      "execution_count": null,
      "outputs": []
    },
    {
      "cell_type": "markdown",
      "source": [
        "### Local Drive"
      ],
      "metadata": {
        "id": "IHXDrLSn5qbi"
      }
    },
    {
      "cell_type": "code",
      "source": [],
      "metadata": {
        "id": "u6SfU9ON5wh9"
      },
      "execution_count": null,
      "outputs": []
    }
  ]
}